{
  "cells": [
    {
      "cell_type": "markdown",
      "metadata": {
        "id": "view-in-github",
        "colab_type": "text"
      },
      "source": [
        "<a href=\"https://colab.research.google.com/github/kocsispeter/2021-22-1/blob/main/Cheat_sheet03.ipynb\" target=\"_parent\"><img src=\"https://colab.research.google.com/assets/colab-badge.svg\" alt=\"Open In Colab\"/></a>"
      ]
    },
    {
      "cell_type": "markdown",
      "metadata": {
        "collapsed": false,
        "id": "BGSKmOT1Qztf"
      },
      "source": [
        "# Ábrakészítés és csúszkák\n",
        "\n",
        "\n",
        "<h3 style='color: darkcyan '> Pylab környezet </h3>\n",
        "\n",
        "Az alábbi paranccsal alapvető `matplotlib` és `numpy` függvényeket töltünk be.\n",
        ">```python\n",
        "%pylab inline\n",
        "```\n",
        "\n",
        "\n",
        "<h3 style='color: darkcyan'> Egyszerű plot </h3>\n",
        "\n",
        ">```python\n",
        "x=linspace(0,1,100) #mintavételezési pontok legyártása\n",
        "y=x**2              #függvény kiértékelése a mintavételezési pontokban\n",
        "plot(x,y)           #ábrázolás\n",
        "```\n",
        "\n",
        "![](http://oroszl.web.elte.hu/szamprob/old_2015/static_notebooks/minta_2d.png)\n",
        "\n",
        "\n",
        "<h3 style='color: darkcyan'>Egyszerű plot, kétváltozós függvény</h3>\n",
        "\n",
        ">```python\n",
        "x2,y2=meshgrid(linspace(-2,5,100),linspace(-1,4,100) #2D mintavételezés\n",
        "z2 = sin(x2) ** 10 + cos(10 + y2 * x2) * cos(x2)      #kiértékelés\n",
        "pcolor(x2,y2,z2)                                      #ábrázolás\n",
        "```\n",
        "\n",
        "![](http://oroszl.web.elte.hu/szamprob/old_2015/static_notebooks/minta_2d_2valt.png)\n",
        "\n",
        "\n",
        "<h3 style='color: darkcyan'>Interaktivitás</h3>\n",
        "\n",
        ">```python\n",
        ">from ipywidgets import *           # az interaktivitásért felelős csomag\n",
        ">\n",
        ">def freki(omega):                  #függvény amivel játszunk\n",
        ">    plot(t,sin(omega*t))   \n",
        ">\n",
        ">interact(freki,omega=(0,10,0.1));  #játszás\n",
        ">```"
      ]
    }
  ],
  "metadata": {
    "anaconda-cloud": {},
    "hide_input": false,
    "kernelspec": {
      "display_name": "Python 3",
      "language": "python",
      "name": "python3"
    },
    "language_info": {
      "codemirror_mode": {
        "name": "ipython",
        "version": 3
      },
      "file_extension": ".py",
      "mimetype": "text/x-python",
      "name": "python",
      "nbconvert_exporter": "python",
      "pygments_lexer": "ipython3",
      "version": "3.5.2"
    },
    "latex_envs": {
      "bibliofile": "biblio.bib",
      "cite_by": "apalike",
      "current_citInitial": 1,
      "eqLabelWithNumbers": true,
      "eqNumInitial": 0
    },
    "name": "Cheat_sheat.ipynb",
    "colab": {
      "provenance": [],
      "include_colab_link": true
    }
  },
  "nbformat": 4,
  "nbformat_minor": 0
}